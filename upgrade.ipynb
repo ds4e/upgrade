{
 "cells": [
  {
   "cell_type": "markdown",
   "metadata": {},
   "source": [
    "# Software Upgrade\n",
    "### `! git clone https://github.com/ds4e/upgrade`"
   ]
  },
  {
   "cell_type": "markdown",
   "metadata": {},
   "source": [
    "## \n",
    "\n",
    "- Disclaimer: I have never used a Mac and only use RStudio in Windows. I literally do not know what happens when you turn on a Mac. One reason I use VS Code below is to avoid dealing with your operating systems directly.\n",
    "- If you use Windows, I highly recommend using the Windows Subsystem for Linux (WSL)"
   ]
  },
  {
   "cell_type": "markdown",
   "metadata": {},
   "source": [
    "## Required Software\n",
    "- There is some software you need installed:\n",
    "    1. Python, version 3: https://www.python.org/downloads/\n",
    "    2. Git: https://git-scm.com/downloads \n",
    "    3. VS Code: https://code.visualstudio.com/ \n",
    "    4. Pip should automatically be included with Python, but you can install it if you don't have it, for some reason: https://pip.pypa.io/en/stable/installation/ "
   ]
  },
  {
   "cell_type": "markdown",
   "metadata": {},
   "source": [
    "## Opening a Command Line/Terminal Window\n",
    "- We want to talk directly to the computer:\n",
    "    - On PC, push the windows key, type `cmd`, and enter\n",
    "    - On a Mac, click Applications > Utilities > Terminal\n",
    "    - On Linux, if it has a desktop interface, CTRL+ALT+T or there's a terminal option in the menu\n",
    "- This lets you talk directly to your operating system, as it were, and ask it to run programs for you\n",
    "- Open a terminal window, or figure out how to do it\n",
    "- Typically, the command line also tells you where you are in the computer's file system\n",
    "    - For PC/Mac/Linux, type `dir`/`ls`/`ls` to see a list of the files and directories at your current location"
   ]
  },
  {
   "cell_type": "markdown",
   "metadata": {},
   "source": [
    "## Using VS Code\n",
    "- I think it's great to be experienced and comfortable using the command line; I hopped on AWS for the first time, and there was nothing to learn because I'd been using Linux for years\n",
    "- But VS Code certainly flattens the learning curve\n",
    "- Open VS Code and navigate somewhere \"safe\" to work\n",
    "- Create a new directory, and open that folder"
   ]
  },
  {
   "cell_type": "markdown",
   "metadata": {},
   "source": [
    "## Using VS Code\n",
    "- Click `Terminal`, `New Terminal`. A terminal panel should pop up at the bottom of your VS Code session, already in the directory where we're working\n",
    "- Type\n",
    "    - `python3 --version`\n",
    "    - `pip --version`\n",
    "- If you get an error, something is wrong with python or pip\n",
    "- On many Macs and some Linux distributions, `python` refers to version 2 of python, but we want version 3. If you just type `python` and everything is OK, go ahead and just type `python` instead of `python3`"
   ]
  },
  {
   "cell_type": "markdown",
   "metadata": {},
   "source": [
    "## Virtual Environments\n",
    "- As a programmer working on many different projects, you will probably need many different versions of packages\n",
    "- This becomes a problem: I don't necessarily want everything related to machine learning installed in the same space as everything related to, say, web design. Or, you are working on one project with version 1.2 of a package, but version 2.4 of another. \n",
    "- In order to compartmentalize your projects, Python includes a concept of a \"virtual environment\", where packages are installed into a directory with more limited scope\n",
    "- This makes it easier to tailor your computing environment to the task at hand"
   ]
  },
  {
   "cell_type": "markdown",
   "metadata": {},
   "source": [
    "## Virtual Environments \n",
    "- A virtual environment is just a directory with the desired packages (e.g. NumPy, SciPy, Sci-Kit Learn) installed in it, typically in the same directory as your code\n",
    "- Typically, it's named something like `.MLproject` or `.ds_packages`\n",
    "- VS Code can \"see\" your virtual environments and make them available as \"kernels\" for your work\n",
    "- This allows us to curate our computing environments and manage them more effectively"
   ]
  },
  {
   "cell_type": "markdown",
   "metadata": {
    "vscode": {
     "languageId": "plaintext"
    }
   },
   "source": [
    "## Creating/Activating a Virtual Environment\n",
    "- In the terminal panel, type `python3 -m venv test_venv`\n",
    "- You should see a new directory appear called `test_venv`. This is like a fresh install of Python, with no packages already downloaded\n",
    "- To switch to this virtual environment, type\n",
    "    - Mac/Linux: `source test_venv/bin/activate`\n",
    "    - Windows: `test_venv\\scripts\\activate`\n",
    "- You should see `(test_env)` appear in your command line, telling you the virtual environment is activated\n",
    "- In both cases, there is a script called `activate`, and you are telling your operating system to run it"
   ]
  },
  {
   "cell_type": "markdown",
   "metadata": {},
   "source": [
    "## Virtual Environments and .ipynb\n",
    "- In VS Code, right click in the file panel and create a new file called `test.ipynb`\n",
    "- Open `test.ipynb` as a Jupyter notebook, click on `Select Kernel` in the upper right. Under `Python Environments` you should see `test_env`\n",
    "- This will probably set off a bunch of installing packages and VS Code extensions, particularly `ipykernel`, in order to use VS Code and Jupyter together; just approve everything\n",
    "- Now your terminal and ipynb file are both using the same `test_env` virtual environment "
   ]
  },
  {
   "cell_type": "markdown",
   "metadata": {},
   "source": [
    "## Installing Packages into the Virtual Environment\n",
    "- In the `test.ipynb` notebook, try importing NumPy; it should fail\n",
    "- In the terminal at the bottom of VS Code -- with the virtual environment activated -- type `pip3 install numpy`\n",
    "- In the `test.ipynb` notebook, try importing NumPy again; it should succeed \n",
    "- You can quickly set up an environment for our class with the command\n",
    "    - `pip install numpy matplotlib pandas seaborn scikit-learn`\n",
    "- Remember, in order to install into your virtual environment, **it must be activated in the terminal where you're running the pip command**"
   ]
  },
  {
   "cell_type": "markdown",
   "metadata": {},
   "source": [
    "## Hiding Your Virtual Environment\n",
    "- You typically want to hide the virtual environment, in particular from Git\n",
    "- To set up a hidden virtual environment, put a . at the beginning of the name of the virtual environmentL: `python3 -m venv .secret_venv`\n",
    "- In my VS Code session, I can see the virtual environment, but it does not show up when I type `ls`/`dir` in the terminal\n",
    "- Most importantly, it does show up as an option for picking a kernel for VS Code"
   ]
  },
  {
   "cell_type": "markdown",
   "metadata": {},
   "source": [
    "## How to Use Virtual Environments Effectively\n",
    "- If I were you, I would:\n",
    "    1. Pick a super-folder for my projects related to class; let's call it `FML` for \"Foundations of Machine Learning\"\n",
    "    2. Create a virtual environment in that folder, called something like `.ds`, and install numpy/matplotlib/pandas/seaborn/scikit into it\n",
    "    3. When I want to work locally, navigate to FML and clone repositories from GitHub into it\n",
    "    4. Use the `.ds` kernel in VS Code, but don't put a virtual environment into each of the course repos (that would use a ton of memory and drive Git crazy)\n",
    "- Let's do this, and make sure it works effectively"
   ]
  },
  {
   "cell_type": "markdown",
   "metadata": {},
   "source": [
    "## 1. The Super-Folder"
   ]
  },
  {
   "cell_type": "markdown",
   "metadata": {},
   "source": [
    "## 2. The Virtual Environment"
   ]
  },
  {
   "cell_type": "markdown",
   "metadata": {},
   "source": [
    "## 3. Working with Github and VSCode"
   ]
  },
  {
   "cell_type": "markdown",
   "metadata": {},
   "source": [
    "## 4. Using the .ds Kernel"
   ]
  },
  {
   "cell_type": "markdown",
   "metadata": {},
   "source": []
  },
  {
   "cell_type": "markdown",
   "metadata": {},
   "source": [
    "- If pip/venv are working for you, the next step for machine learning/data science is miniconda: \n",
    "    1. Miniconda (not Anaconda): https://www.anaconda.com/docs/getting-started/miniconda/install#quickstart-install-instructions"
   ]
  }
 ],
 "metadata": {
  "language_info": {
   "name": "python"
  }
 },
 "nbformat": 4,
 "nbformat_minor": 2
}

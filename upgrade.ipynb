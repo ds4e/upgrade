{
 "cells": [
  {
   "cell_type": "markdown",
   "metadata": {},
   "source": [
    "# Software Upgrade\n",
    "### `! git clone https://github.com/ds4e/upgrade`"
   ]
  },
  {
   "cell_type": "markdown",
   "metadata": {},
   "source": [
    "## Software Upgrade\n",
    "- A lot of people work on Google Colab, and there's nothing wrong with that! But it can be frustrating to use Colab for a variety of reasons.\n",
    "- At this point in the semester, regardless of where you started, you've played with Python and GitHub enough to understand packages, import statements, and some GitHub. Since you've seen the tools a bit, now is a great time to move over to a new IDE.\n",
    "- I want to help people jump from Google Colab or Jupyter to VS Code: It just works a lot better, because Microsoft owns both GitHub and VS Code\n",
    "- Disclaimer: I have literally never used a Mac and only use RStudio in Windows. I do not know what happens when you turn on a Mac. One reason I use VS Code below is to avoid dealing with your operating systems directly.\n",
    "- If you use Windows, I highly recommend using the Windows Subsystem for Linux (WSL)\n",
    "- In general, knowing Linux is worth it: Android is Linux, over 90% of servers run Linux, and it's a lot easier to work in than Windows "
   ]
  },
  {
   "cell_type": "markdown",
   "metadata": {},
   "source": [
    "## Required Software\n",
    "- There is some software you need installed:\n",
    "    1. Python, version 3: https://www.python.org/downloads/\n",
    "    2. Git: https://git-scm.com/downloads \n",
    "    3. VS Code: https://code.visualstudio.com/ \n",
    "    4. Pip should automatically be included with Python, but you can install it if you don't have it, for some reason: https://pip.pypa.io/en/stable/installation/\n",
    "- The details of this depend on your computer a lot; I can't really help you with this"
   ]
  },
  {
   "cell_type": "markdown",
   "metadata": {},
   "source": [
    "# Some Command Line Interface"
   ]
  },
  {
   "cell_type": "markdown",
   "metadata": {},
   "source": [
    "## Opening a Command Line/Terminal Window\n",
    "- We want to talk directly to the computer:\n",
    "    - On PC, push the windows key, type `cmd`, and enter\n",
    "    - On a Mac, click Applications > Utilities > Terminal\n",
    "    - On Linux, if it has a desktop interface, CTRL+ALT+T or there's a terminal option in the menu\n",
    "- This lets you talk directly to your operating system, as it were, and ask it to run programs for you\n",
    "- Typically, the command line also tells you where you are in the computer's file system"
   ]
  },
  {
   "cell_type": "markdown",
   "metadata": {},
   "source": [
    "<img src=\"./src/cli.png\" width=\"500\">"
   ]
  },
  {
   "cell_type": "markdown",
   "metadata": {},
   "source": [
    "- For PC/Mac/Linux, type `dir`/`ls`/`ls` to see a list of the files and directories at your current location\n",
    "- Use `cd <directory>` to navigate into `directory` and `cd ..` to go up a level in the filesystem; `cd <path>` will take you directly along `<path>`\n",
    "- To make a new directory, `mkdir <name>`"
   ]
  },
  {
   "cell_type": "markdown",
   "metadata": {},
   "source": [
    "<img src=\"./src/shell_commands.png\" width=\"500\">"
   ]
  },
  {
   "cell_type": "markdown",
   "metadata": {},
   "source": [
    "## Getting Started with VS Code\n",
    "- I think it's great to be experienced and comfortable using the command line\n",
    "- But VS Code certainly flattens the learning curve for using GitHub and Python more effectively\n",
    "- Open VS Code and navigate somewhere \"safe\" to work\n",
    "- Create a new directory, and open that folder in VS Code by typing `code <folder name>` or cd'ing into it and typing `code .`"
   ]
  },
  {
   "cell_type": "markdown",
   "metadata": {},
   "source": [
    "<img src=\"./src/launch_code.png\" width=\"500\">"
   ]
  },
  {
   "cell_type": "markdown",
   "metadata": {},
   "source": [
    "## Using VS Code\n",
    "- In VS Code, click `Terminal`, `New Terminal`. A terminal panel should pop up at the bottom of your VS Code session, already in the directory where we're working\n",
    "- Type\n",
    "    - `python3 --version`\n",
    "    - `pip --version`\n",
    "- If you get an error, something is wrong with python or pip\n",
    "- On many Macs and some Linux distributions, `python` refers to version 2 of python, but we want version 3. If you just type `python` and everything is OK, go ahead and just type `python` instead of `python3`"
   ]
  },
  {
   "cell_type": "markdown",
   "metadata": {},
   "source": [
    "<img src=\"./src/vscode_terminal.png\" width=\"500\">"
   ]
  },
  {
   "cell_type": "markdown",
   "metadata": {},
   "source": [
    "## Nice VS Code Features\n",
    "- `CTRL + ENTER` : Run the code chunk\n",
    "- `ALT + ENTER` : Run this code chunk, and open another of the same kind below\n",
    "- `CTRL + C` : Split a cell\n",
    "- `SHIFT + TAB` : Reverse indent selected lines of code\n",
    "- `CTRL + /` : Comment out selected lines of code"
   ]
  },
  {
   "cell_type": "markdown",
   "metadata": {},
   "source": [
    "# Virtual Environments"
   ]
  },
  {
   "cell_type": "markdown",
   "metadata": {},
   "source": [
    "## Virtual Environments\n",
    "- As a programmer working on many different projects, you will probably need many different versions of packages\n",
    "- This becomes a problem: I don't necessarily want everything related to machine learning installed in the same space as everything related to, say, web design. Or, you are working on one project with version 1.2 of a package, but version 2.4 of another. \n",
    "- In order to compartmentalize your projects, Python includes a concept of a \"virtual environment\", where packages are installed into a directory with more limited scope\n",
    "- This makes it easier to tailor your computing environment to the task at hand"
   ]
  },
  {
   "cell_type": "markdown",
   "metadata": {},
   "source": [
    "## Virtual Environments \n",
    "- A virtual environment is just a directory with the desired packages (e.g. NumPy, SciPy, Sci-Kit Learn) installed in it, typically in the same directory as your code\n",
    "- Often, it's named just `.venv`\n",
    "- VS Code can \"see\" your virtual environments and make them available as **kernels** for your work\n",
    "- This allows us to curate our computing environments and manage them more effectively"
   ]
  },
  {
   "cell_type": "markdown",
   "metadata": {
    "vscode": {
     "languageId": "plaintext"
    }
   },
   "source": [
    "## Creating/Activating a Virtual Environment\n",
    "- In the terminal panel, type `python3 -m venv test_venv`\n",
    "- You should see a new directory appear called `test_venv`. This is like a fresh install of Python, with no packages already downloaded\n",
    "- To switch to this virtual environment, type\n",
    "    - Mac/Linux: `source test_venv/bin/activate`\n",
    "    - Windows: `test_venv\\scripts\\activate`\n",
    "- You should see `(test_env)` appear in your command line, telling you the virtual environment is activated\n",
    "- In both cases, there is a script called `activate`, and you are telling your operating system to run it\n",
    "- To turn the virtual environment off, type `deactivate test_venv`"
   ]
  },
  {
   "cell_type": "markdown",
   "metadata": {},
   "source": [
    "<img src=\"./src/activate_venv.png\" width=\"500\">"
   ]
  },
  {
   "cell_type": "markdown",
   "metadata": {},
   "source": [
    "## Virtual Environments and .ipynb\n",
    "- In VS Code, right click in the file panel and create a new file called `test.ipynb`\n",
    "- Open `test.ipynb` as a Jupyter notebook, click on `Select Kernel` in the upper right. Under `Python Environments` you should see `test_env`\n",
    "- This will probably set off a bunch of installing packages and VS Code extensions, particularly `ipykernel`, in order to use VS Code and Jupyter together; just approve everything\n",
    "- Now your terminal and ipynb file are both using the same `test_env` virtual environment "
   ]
  },
  {
   "cell_type": "markdown",
   "metadata": {},
   "source": [
    "<img src=\"./src/select_kernel.png\" width=\"500\">"
   ]
  },
  {
   "cell_type": "markdown",
   "metadata": {},
   "source": [
    "## Installing Packages into the Virtual Environment\n",
    "- In the `test.ipynb` notebook, try importing NumPy; it should fail\n",
    "- In the terminal at the bottom of VS Code -- with the virtual environment activated -- type `pip3 install numpy`\n",
    "- In the `test.ipynb` notebook, try importing NumPy again; it should succeed \n",
    "- You can quickly set up an environment for our class with the command\n",
    "    - `pip install numpy matplotlib pandas seaborn scikit-learn`\n",
    "- Remember, in order to install into your virtual environment, **it must be activated in the terminal where you're running the pip command**"
   ]
  },
  {
   "cell_type": "markdown",
   "metadata": {},
   "source": [
    "## Hiding Your Virtual Environment\n",
    "- You typically want to hide the virtual environment, since it's not really part of your project but instead part of Python's interpreter and libraries\n",
    "- To set up a hidden virtual environment, put a . at the beginning of the name of the virtual environmentL: `python3 -m venv .secret_venv`\n",
    "- In my VS Code session, I can see the virtual environment in the files pane, but it does not show up when I type `ls`/`dir` in the terminal\n",
    "- Most importantly, it does show up as an option for picking a kernel for VS Code"
   ]
  },
  {
   "cell_type": "markdown",
   "metadata": {},
   "source": [
    "# Working with VS Code and GitHub"
   ]
  },
  {
   "cell_type": "markdown",
   "metadata": {},
   "source": [
    "## Creating a New Repo on GitHub\n",
    "- Now's a good time to go to Github and create your own repo: On your GitHub page, click `Repositories` and then the green `New` button\n",
    "- Call it something like `test`. Add a `.readme` file so it has content when initialized. It can be public or private: We'll use VS Code to manage that\n",
    "- Starting your project on GitHub with a .readme file and cloning it obviates a bunch of tedious settings issues"
   ]
  },
  {
   "cell_type": "markdown",
   "metadata": {},
   "source": [
    "<img src=\"./src/new_repo.png\" width=\"500\">"
   ]
  },
  {
   "cell_type": "markdown",
   "metadata": {},
   "source": [
    "## Cloning a Local Copy\n",
    "- Now clone your test repo in the terminal panel: `git clone https://github.com/username/test`\n",
    "- In the terminal panel, type `code test` (or `code <your repo's name>`) to launch a new session of VS Code, inside that repo\n",
    "- Open a terminal panel in your new VS Code session, and type `git status` to check that Git is running\n",
    "- To create a new notebook, right-click in the file panel and type `new_notebook.ipynb`\n",
    "- You'll need to create a new virtual environment, but you can do that inside VS Code: Click `Select Kernel`, then `+ Add New Python Environment`, `Venv`, and then the version of Python 3 that you use\n",
    "- This creates a hidden virtual environment called `.venv` that you can activate and manage, but it will be ignored by Git"
   ]
  },
  {
   "cell_type": "markdown",
   "metadata": {},
   "source": [
    "<img src=\"./src/clone.png\" width=\"500\">"
   ]
  },
  {
   "cell_type": "markdown",
   "metadata": {},
   "source": [
    "- To set up your new virtual environment, \n",
    "    1. Open a new terminal window\n",
    "    2. Type `source .venv/bin/activate` to activate the virtual environment\n",
    "    3. Type `pip install numpy matplotlib pandas seaborn scikit-learn`, or whatever list of packages you need\n",
    "- This will set up `.venv` to work like Colab\n",
    "- If you come back to this repo, it will have the virtual environment set up, so there's no need to activate it in the terminal window unless you need to install new packages: You can just select `.venv` from `Select Kernel` as you work"
   ]
  },
  {
   "cell_type": "markdown",
   "metadata": {},
   "source": [
    "## Signing into GitHub from VS Code\n",
    "- Click the \"Person\" icon in the bottom left, \"Turn on Cloud Changes...\", then \"Sign in with GitHub\". This will connect VS Code to your GitHub account and manage all the security issues.\n",
    "- If you click the person again, you should see your GitHub username mentioned.\n",
    "- When cloning a private repo, this can save you substantial typing: Open a VS Code session, open a terminal, log in to GitHub through VS Code, use the terminal to clone the private repo, type `code <repo>` to launch a new session in the cloned repo "
   ]
  },
  {
   "cell_type": "markdown",
   "metadata": {},
   "source": [
    "<img src=\"./src/github_sign_in.png\" width=\"500\">"
   ]
  },
  {
   "cell_type": "markdown",
   "metadata": {},
   "source": [
    "# VS Code and GitHub"
   ]
  },
  {
   "cell_type": "markdown",
   "metadata": {},
   "source": [
    "- Do some work in your new .ipnyb file in your test directory\n",
    "- Click the Git panel; it looks like a little tree\n",
    "- Now you can fetch/pull/clone all of your repos, as well as push back to them from VS Code:\n",
    "    1. Write a commit message and press `Commit`; you should see your new commit show up in the log below\n",
    "    2. Now you can click `Sync Changes` or `Push`, and VS Code will push your work back to GitHub\n",
    "    3. If you want to update your local copy with other changes that have hit GitHub, click the \"downarrow\" `Pull` button on the bottom half of the GitHub panel\n",
    "- This makes working with GitHub outrageously easy "
   ]
  },
  {
   "cell_type": "markdown",
   "metadata": {},
   "source": [
    "<img src=\"./src/github_panel.png\" width=\"500\">"
   ]
  },
  {
   "cell_type": "markdown",
   "metadata": {},
   "source": [
    "## Git Commands\n",
    "- The little arrow/circle buttons let you issue some useful Git commands:\n",
    "    - The dashed downarrow is *Fetch*: Download changes for user to review\n",
    "    - The solid downarrow is *Pull*: Download changes and merge them into your local copy\n",
    "    - The uparrow into the cloud is *Publish Branch*: Return work to GitHub, potentially as a new branch or repo \n",
    "- The `...` by **SOURCE CONTROL** allows you to run most Git commands from VS Code"
   ]
  },
  {
   "cell_type": "markdown",
   "metadata": {},
   "source": [
    "# Branches"
   ]
  },
  {
   "cell_type": "markdown",
   "metadata": {},
   "source": [
    "## Branches\n",
    "- In your groups, you probably want to work on features of a project separately but in parallel\n",
    "- One nice way to do this is **branches**: Splits in the tree underlying the Git version control system, allowing people to work on different parts of the project at the same time without creating conflicts"
   ]
  },
  {
   "cell_type": "markdown",
   "metadata": {},
   "source": [
    "## Creating a Branch\n",
    "- At the command line, doing things in Git is easy, but there can be problems when you say \"Git\" but you really mean \"GitHub\"\n",
    "- To create a new branch on GitHub for your repo, go to the repo, and click on the `Main` button with the Git logo\n",
    "- Type the name of the branch `<name>` you want to create, then click `Create branch <name> from main`\n",
    "- This creates \"parallel\" copies of the project that different people can work on, that can hopefully be **merged** back together later"
   ]
  },
  {
   "cell_type": "markdown",
   "metadata": {},
   "source": [
    "<img src=\"./src/new_branch.png\" width=\"500\">"
   ]
  },
  {
   "cell_type": "markdown",
   "metadata": {},
   "source": [
    "## Listing/Switching Branches\n",
    "- First, clone the repo or pull the current state of the repo \n",
    "- To see what branches are available, at the command line in the repo, type `git branch -r`\n",
    "- To switch to working on another branch, `git checkout <branch name>`\n",
    "- To check your current branch, `git branch`\n",
    "- Follow these steps to work on your branch, make a commit, and then push the changes back"
   ]
  },
  {
   "cell_type": "markdown",
   "metadata": {},
   "source": [
    "<img src=\"./src/get_new_branch.png\" width=\"500\">"
   ]
  },
  {
   "cell_type": "markdown",
   "metadata": {},
   "source": [
    "<img src=\"./src/commit_to_new_branch.png\" width=\"500\">"
   ]
  },
  {
   "cell_type": "markdown",
   "metadata": {},
   "source": [
    "## Pull/Merge Requests\n",
    "- Back on GitHub, the repo will recognize the push to the branch: There will be a yellow box reporting the push, and a green button saying `Compare & pull request` \n",
    "- Clicking the button takes you to an analysis of the proposed changes and whether they are feasible; if they are, clicking through the green buttons will merge the changes on the development branch into the main branch, updating the whole project\n",
    "- As a group, you should practice creating branches, pushing, and handling pull requests with the labs: It's a great way to collaborate on the labs, learn how to use GitHub for group work, "
   ]
  },
  {
   "cell_type": "markdown",
   "metadata": {},
   "source": [
    "<img src=\"./src/pull_request.png\" width=\"500\">"
   ]
  },
  {
   "cell_type": "markdown",
   "metadata": {},
   "source": [
    "<img src=\"./src/pull_request_1.png\" width=\"500\">"
   ]
  },
  {
   "cell_type": "markdown",
   "metadata": {},
   "source": [
    "<img src=\"./src/merge.png\" width=\"500\">"
   ]
  },
  {
   "cell_type": "markdown",
   "metadata": {},
   "source": [
    "## Managing Teams\n",
    "- Honestly, you should probably just have people work in different .ipynb or .py files on the main branch, so that pull requests are really easy to handle and branching/merging isn't necessary\n",
    "- You should try to always work on development branches and merge big changes into the main branch, rather than working directly on the main branch and pushing changes to it\n",
    "- Otherwise, you have to work out some understanding of who is working on what part of the project when, to avoid merge conflicts"
   ]
  },
  {
   "cell_type": "markdown",
   "metadata": {},
   "source": [
    "# Conclusion"
   ]
  },
  {
   "cell_type": "markdown",
   "metadata": {},
   "source": [
    "## Miniconda\n",
    "- It might strike you: \"Wow, for data science/machine learning, virtual environments are really inefficient\"\n",
    "- Indeed! Having dozens of copies of NumPy, Pandas, Scikit, and Keras on your computer will take up a lot of space\n",
    "- An alternative system has been created that has a \"centralized\" set of virtual environments that can be accessed from any repo\n",
    "- This is called **Miniconda**: https://www.anaconda.com/docs/getting-started/miniconda/main \n",
    "- The integration with VS Code is very similar through `Select Kernel`, and there are hardware-related reasons to use miniconda over venv\n",
    "- Installing requires some work: https://www.anaconda.com/docs/getting-started/miniconda/install#quickstart-install-instructions\n",
    "- Creating environments, activating them, and so on are very similar to venv"
   ]
  },
  {
   "cell_type": "markdown",
   "metadata": {},
   "source": [
    "## Conclusion\n",
    "- You don't \"need\" to use VS Code: There are lots of great IDE's out there (PyCharm, Sublime, Jupyter, Spyder)\n",
    "- But VS Code is a great tool for increasing your productivity locally\n",
    "- Especially if you are working on Colab and starting to find its limitations frustrating, now is a great time to switch"
   ]
  }
 ],
 "metadata": {
  "kernelspec": {
   "display_name": ".venv",
   "language": "python",
   "name": "python3"
  },
  "language_info": {
   "codemirror_mode": {
    "name": "ipython",
    "version": 3
   },
   "file_extension": ".py",
   "mimetype": "text/x-python",
   "name": "python",
   "nbconvert_exporter": "python",
   "pygments_lexer": "ipython3",
   "version": "3.10.12"
  }
 },
 "nbformat": 4,
 "nbformat_minor": 2
}
